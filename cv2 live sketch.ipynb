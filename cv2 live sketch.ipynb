{
 "cells": [
  {
   "cell_type": "code",
   "execution_count": 1,
   "metadata": {},
   "outputs": [],
   "source": [
    "import cv2\n",
    "import numpy as np"
   ]
  },
  {
   "cell_type": "code",
   "execution_count": 17,
   "metadata": {},
   "outputs": [],
   "source": [
    "def sketch(image):\n",
    "  img_gray = cv2.cvtColor(image , cv2.COLOR_BGR2GRAY)\n",
    "  img_gray_blur = cv2.GaussianBlur(img_gray ,(5,5),0)\n",
    "  canny_edge = cv2.Canny(img_gray_blur ,10 ,70)\n",
    "  ret , mask = cv2.threshold(canny_edge , 40, 255 ,cv2.THRESH_BINARY_INV)\n",
    "  return mask"
   ]
  },
  {
   "cell_type": "code",
   "execution_count": 18,
   "metadata": {},
   "outputs": [],
   "source": [
    "cap = cv2.VideoCapture(0)"
   ]
  },
  {
   "cell_type": "code",
   "execution_count": 19,
   "metadata": {},
   "outputs": [],
   "source": [
    "while True:\n",
    "  ret , frame = cap.read()\n",
    "  cv2.imshow('Our Live Sketcher',sketch(frame))\n",
    "  if cv2.waitKey(1) == 13:\n",
    "    break\n",
    "  \n",
    "cap.release()\n",
    "cv2.destroyAllWindows()"
   ]
  },
  {
   "cell_type": "code",
   "execution_count": null,
   "metadata": {},
   "outputs": [],
   "source": []
  }
 ],
 "metadata": {
  "kernelspec": {
   "display_name": "Python 3",
   "language": "python",
   "name": "python3"
  },
  "language_info": {
   "codemirror_mode": {
    "name": "ipython",
    "version": 3
   },
   "file_extension": ".py",
   "mimetype": "text/x-python",
   "name": "python",
   "nbconvert_exporter": "python",
   "pygments_lexer": "ipython3",
   "version": "3.8.3"
  }
 },
 "nbformat": 4,
 "nbformat_minor": 4
}
